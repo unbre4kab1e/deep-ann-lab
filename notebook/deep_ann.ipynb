{
  "cells": [
    {
      "cell_type": "markdown",
      "metadata": {},
      "source": [
        "# Tutoriel R\u00e9seaux de Neurones Artificiels Profonds (Deep ANN)\n",
        "Ce notebook illustre la mise en \u0153uvre d'un r\u00e9seau de neurones profond sur le jeu de donn\u00e9es MNIST."
      ]
    },
    {
      "cell_type": "code",
      "execution_count": null,
      "metadata": {},
      "outputs": [],
      "source": [
        "# 1. Importation des biblioth\u00e8ques\n",
        "import tensorflow as tf\n",
        "from tensorflow.keras.models import Sequential\n",
        "from tensorflow.keras.layers import Dense, Flatten\n",
        "from tensorflow.keras.utils import to_categorical\n",
        "import numpy as np\n",
        "import matplotlib.pyplot as plt"
      ]
    },
    {
      "cell_type": "code",
      "execution_count": null,
      "metadata": {},
      "outputs": [],
      "source": [
        "# 2. Chargement et pr\u00e9traitement des donn\u00e9es\n",
        "(x_train, y_train), (x_test, y_test) = tf.keras.datasets.mnist.load_data()\n",
        "x_train, x_test = x_train / 255.0, x_test / 255.0\n",
        "y_train_cat = to_categorical(y_train, num_classes=10)\n",
        "y_test_cat = to_categorical(y_test, num_classes=10)\n",
        "print(f\"Forme des donn\u00e9es d'entra\u00eenement : {x_train.shape}\")\n",
        "print(f\"Forme des donn\u00e9es de test : {x_test.shape}\")"
      ]
    },
    {
      "cell_type": "code",
      "execution_count": null,
      "metadata": {},
      "outputs": [],
      "source": [
        "# 3. Construction du mod\u00e8le Deep ANN\n",
        "model = Sequential([\n",
        "    Flatten(input_shape=(28, 28)),\n",
        "    Dense(128, activation='relu'),\n",
        "    Dense(64, activation='relu'),\n",
        "    Dense(32, activation='relu'),\n",
        "    Dense(10, activation='softmax')\n",
        "])\n",
        "model.compile(optimizer='adam',\n",
        "              loss='categorical_crossentropy',\n",
        "              metrics=['accuracy'])\n",
        "model.summary()"
      ]
    },
    {
      "cell_type": "code",
      "execution_count": null,
      "metadata": {},
      "outputs": [],
      "source": [
        "# 4. Entra\u00eenement du mod\u00e8le\n",
        "history = model.fit(x_train, y_train_cat, epochs=10, batch_size=64,\n",
        "                    validation_data=(x_test, y_test_cat))"
      ]
    },
    {
      "cell_type": "code",
      "execution_count": null,
      "metadata": {},
      "outputs": [],
      "source": [
        "# 5. \u00c9valuation du mod\u00e8le\n",
        "test_loss, test_acc = model.evaluate(x_test, y_test_cat, verbose=2)\n",
        "print(f\"\\nPr\u00e9cision sur le test : {test_acc:.4f}\")"
      ]
    },
    {
      "cell_type": "code",
      "execution_count": null,
      "metadata": {},
      "outputs": [],
      "source": [
        "# 6. Visualisation des r\u00e9sultats\n",
        "plt.figure(figsize=(12,4))\n",
        "plt.subplot(1, 2, 1)\n",
        "plt.plot(history.history['accuracy'], label='Pr\u00e9cision entra\u00eenement')\n",
        "plt.plot(history.history['val_accuracy'], label='Pr\u00e9cision validation')\n",
        "plt.title('Pr\u00e9cision du mod\u00e8le')\n",
        "plt.ylabel('Pr\u00e9cision')\n",
        "plt.xlabel('\u00c9poque')\n",
        "plt.legend()\n",
        "plt.subplot(1, 2, 2)\n",
        "plt.plot(history.history['loss'], label='Perte entra\u00eenement')\n",
        "plt.plot(history.history['val_loss'], label='Perte validation')\n",
        "plt.title('Perte du mod\u00e8le')\n",
        "plt.ylabel('Perte')\n",
        "plt.xlabel('\u00c9poque')\n",
        "plt.legend()\n",
        "plt.show()"
      ]
    },
    {
      "cell_type": "code",
      "execution_count": null,
      "metadata": {},
      "outputs": [],
      "source": [
        "# 7. Pr\u00e9dictions et visualisation\n",
        "predictions = model.predict(x_test[:10])\n",
        "predicted_classes = np.argmax(predictions, axis=1)\n",
        "plt.figure(figsize=(12,6))\n",
        "for i in range(10):\n",
        "    plt.subplot(2,5,i+1)\n",
        "    plt.imshow(x_test[i], cmap='gray')\n",
        "    plt.title(f\"Pr\u00e9diction : {predicted_classes[i]}\\nR\u00e9alit\u00e9 : {y_test[i]}\")\n",
        "    plt.axis('off')\n",
        "plt.tight_layout()\n",
        "plt.show()"
      ]
    }
  ],
  "metadata": {
    "kernelspec": {
      "display_name": "Python 3",
      "language": "python",
      "name": "python3"
    },
    "language_info": {
      "name": "python",
      "version": "3.8"
    }
  },
  "nbformat": 4,
  "nbformat_minor": 5
}
